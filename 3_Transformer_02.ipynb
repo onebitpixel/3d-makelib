{
  "nbformat": 4,
  "nbformat_minor": 0,
  "metadata": {
    "colab": {
      "name": "3_Transformer.ipynb",
      "provenance": [],
      "collapsed_sections": [],
      "include_colab_link": true
    },
    "kernelspec": {
      "display_name": "Python 3",
      "name": "python3"
    }
  },
  "cells": [
    {
      "cell_type": "markdown",
      "metadata": {
        "id": "view-in-github",
        "colab_type": "text"
      },
      "source": [
        "<a href=\"https://colab.research.google.com/github/onebitpixel/3d-makelib/blob/master/3_Transformer_02.ipynb\" target=\"_parent\"><img src=\"https://colab.research.google.com/assets/colab-badge.svg\" alt=\"Open In Colab\"/></a>"
      ]
    },
    {
      "cell_type": "markdown",
      "metadata": {
        "colab_type": "text",
        "id": "-pVhOfzLx9us"
      },
      "source": [
        "# Implementing the Transformer Network in PyTorch\n",
        "\n"
      ]
    },
    {
      "cell_type": "markdown",
      "metadata": {
        "id": "8DDqagqPiEj4",
        "colab_type": "text"
      },
      "source": [
        "In this notebook, we will build a Transformer network in PyTorch to do two sequence-to-sequence tasks (copy and paste; machine translation). First, we will implement all the modules in a Transformer network, including Multi-Headed Attention Network, Position-Wise Feed-Forward Networks, Embeddings and Softmax, Positional Encoding, etc. Second, we will combine them and build the final encoder-decoder model. At last, we will evaluate the Transformer model on a simple copy-paste task and a German-English machine translation task. The Colab link is https://colab.research.google.com/drive/1ZxmTZeHW2G4EYQdZg6wgt-1BNPT-DIKk and the slides are sent by email."
      ]
    },
    {
      "cell_type": "markdown",
      "metadata": {
        "colab_type": "text",
        "id": "8QAWNjizy_3O"
      },
      "source": [
        "## The Transformer model\n",
        "\n",
        "Let's recall the Transformer model discussed in the previous lecture \"The Transformer Network for NLP\".\n",
        "\n",
        "![](https://drive.google.com/uc?id=1PpiyJfOAqGYG5KeJN79iUzL5SLkdcT9w)\n"
      ]
    },
    {
      "cell_type": "markdown",
      "metadata": {
        "id": "7u7lz2YcUy_1",
        "colab_type": "text"
      },
      "source": [
        "## Requirements and Installation\n",
        "\n",
        "Before we get started, let's import the packages we'll be using.\n",
        "\n"
      ]
    },
    {
      "cell_type": "code",
      "metadata": {
        "id": "31lBE7_HVA11",
        "colab_type": "code",
        "colab": {}
      },
      "source": [
        "# Uncomment and run it if you are not using Colab. Colab is discussed in the previous lecture \"0B_Coding_Environments.ipynb\".\n",
        "# !pip install torch numpy matplotlib spacy torchtext seaborn "
      ],
      "execution_count": 0,
      "outputs": []
    },
    {
      "cell_type": "code",
      "metadata": {
        "id": "dHrOpRKGU-iB",
        "colab_type": "code",
        "colab": {}
      },
      "source": [
        "import numpy as np\n",
        "import torch\n",
        "import torch.nn as nn\n",
        "import torch.nn.functional as F\n",
        "import math, copy, time\n",
        "from torch.autograd import Variable\n",
        "import matplotlib.pyplot as plt\n",
        "%matplotlib inline"
      ],
      "execution_count": 0,
      "outputs": []
    },
    {
      "cell_type": "markdown",
      "metadata": {
        "id": "RmXUa99MH1Hj",
        "colab_type": "text"
      },
      "source": [
        "## Multi-Headed Attention Network\n",
        "\n",
        "<figure>\n",
        "<center>\n",
        "<img src='https://drive.google.com/uc?id=1dAjWR_mhZfEiIsUB28T6txzN6rMXcYlf' width=\"450\" height=\"600\" />\n",
        "<!---<figcaption>Image Caption</figcaption>--->\n",
        "</center>\n",
        "</figure>\n",
        "\n",
        "### Scaled Dot-Product Attention\n",
        "\n",
        "#### The input of the “Scaled Dot-Product Attention” consists of queries and keys of dimension $n \\times d_k$, and values of dimension $n \\times d_v$. We compute the dot products of the query with all keys, divide each by $\\sqrt{d_k}$, and apply a softmax function to obtain the weights on the values.\n",
        "\n",
        "\n",
        "<figure>\n",
        "<center>\n",
        "<img src='https://drive.google.com/uc?id=1eTqwXpLZL-fNWbxK37oETvs-aeo59RRR'/>\n",
        "<!---<figcaption>Image Caption</figcaption>--->\n",
        "</center>\n",
        "</figure>\n",
        "\n",
        "#### The reason that we scale the dot products by $\\frac{1}{\\sqrt{d_k}}$ is:\n",
        "\n",
        "#### If the value of $d_k$ is large, we scale the dot products by $\\frac{1}{\\sqrt{d_k}}$ to avoid the large magnitude of the dot products. For example, assume the components of $q$ and $k$ are independent random variables with mean $0$ and variance $1$, their dot product $q \\cdot k = \\sum_{i=1}^{d_k} q_ik_i$ has mean $0$ and variance $d_k$.\n"
      ]
    },
    {
      "cell_type": "code",
      "metadata": {
        "id": "ifuxRgr6H8Gw",
        "colab_type": "code",
        "colab": {}
      },
      "source": [
        "def attention(query, key, value, mask=None, dropout=None):\n",
        "    \"Compute 'Scaled Dot Product Attention'\"\n",
        "    d_k = query.size(-1)\n",
        "    # Scaled Dot Product Attention\n",
        "    scores = torch.matmul(query, key.transpose(-2, -1)) \\\n",
        "             / math.sqrt(d_k)\n",
        "    # Set score values to minus infinity if masked\n",
        "    if mask is not None:\n",
        "        scores = scores.masked_fill(mask == 0, -1e9)\n",
        "    p_attn = F.softmax(scores, dim = -1)\n",
        "    if dropout is not None:\n",
        "        p_attn = dropout(p_attn)\n",
        "    return torch.matmul(p_attn, value), p_attn"
      ],
      "execution_count": 0,
      "outputs": []
    },
    {
      "cell_type": "markdown",
      "metadata": {
        "id": "628XH0pfHcXz",
        "colab_type": "text"
      },
      "source": [
        "#### Example:"
      ]
    },
    {
      "cell_type": "code",
      "metadata": {
        "id": "kKHQMi99GtCw",
        "colab_type": "code",
        "outputId": "42f2ee5f-3d45-4d95-b9d1-b1a5461b66b8",
        "colab": {
          "base_uri": "https://localhost:8080/",
          "height": 87
        }
      },
      "source": [
        "Q = torch.randn(2,3)\n",
        "K = torch.randn(2,3)\n",
        "V = torch.randn(2,5)\n",
        "\n",
        "output, p_attn = attention(Q, K, V)\n",
        "print(output.size(), p_attn.size())\n",
        "print(p_attn)\n",
        "print(torch.sum(p_attn, dim=-1))"
      ],
      "execution_count": 0,
      "outputs": [
        {
          "output_type": "stream",
          "text": [
            "torch.Size([2, 5]) torch.Size([2, 2])\n",
            "tensor([[0.7175, 0.2825],\n",
            "        [0.7132, 0.2868]])\n",
            "tensor([1., 1.])\n"
          ],
          "name": "stdout"
        }
      ]
    },
    {
      "cell_type": "markdown",
      "metadata": {
        "id": "yjPx0pI4K_PC",
        "colab_type": "text"
      },
      "source": [
        "\n",
        "### Multi-Headed Attention\n",
        "\n",
        "The model uses multi-headed attention to jointly attend to information from different representation subspaces at different positions, while with a single attention head the model cannot.\n",
        "\n",
        "The parameter matrices of the four Linear layers are $W^Q_i \\in \\mathbb{R}^{d_{\\text{model}} \\times d_k}$, $W^K_i \\in \\mathbb{R}^{d_{\\text{model}} \\times d_k}$, $W^V_i \\in \\mathbb{R}^{d_{\\text{model}} \\times d_v}$ and $W^O \\in \\mathbb{R}^{hd_v \\times d_{\\text{model}}}$. In the codes below, we employ the attention heads $h=8$, $d_{\\text{model}}=512$, and $d_k=d_v=d_{\\text{model}}/h=64$.\n",
        "\n",
        "<figure>\n",
        "<center>\n",
        "<img src='https://drive.google.com/uc?id=1Vw3BguL7Mvc4Ddqw1uvIBhN52GPKgpJL' width=\"450\" height=\"500\" />\n",
        "<!---<figcaption>Image Caption</figcaption>--->\n",
        "</center>\n",
        "</figure>\n"
      ]
    },
    {
      "cell_type": "code",
      "metadata": {
        "id": "Nkyz6mF_Rqca",
        "colab_type": "code",
        "colab": {}
      },
      "source": [
        "def clones(module,N):\n",
        "    \"Produce N identical layers.\"\n",
        "    return nn.ModuleList([copy.deepcopy(module) for _ in range(N)])"
      ],
      "execution_count": 0,
      "outputs": []
    },
    {
      "cell_type": "code",
      "metadata": {
        "id": "3DKouLfbLh2-",
        "colab_type": "code",
        "colab": {}
      },
      "source": [
        "class MultiHeadedAttention(nn.Module):\n",
        "    def __init__(self, h, d_model, dropout=0.1):\n",
        "        \"Take in model size and number of heads.\"\n",
        "        super(MultiHeadedAttention, self).__init__()\n",
        "        assert d_model % h == 0\n",
        "        self.d_k = d_model // h\n",
        "        self.h = h\n",
        "        self.linears = clones(nn.Linear(d_model, d_model), 4)\n",
        "        self.attn = None\n",
        "        self.dropout = nn.Dropout(p=dropout)\n",
        "        \n",
        "    def forward(self, query, key, value, mask=None):\n",
        "        \"Implement the figure.\"\n",
        "        if mask is not None:\n",
        "            # Same mask applied to all h heads.\n",
        "            mask = mask.unsqueeze(1)\n",
        "        nbatches = query.size(0)\n",
        "        \n",
        "        # 1) Do all the linear projections in batch from d_model => h x d_k \n",
        "        query, key, value = \\\n",
        "            [l(x).view(nbatches, -1, self.h, self.d_k).transpose(1, 2)\n",
        "             for l, x in zip(self.linears, (query, key, value))]\n",
        "        \n",
        "        # 2) Apply attention on all the projected vectors in batch. \n",
        "        x, self.attn = attention(query, key, value, mask=mask, \n",
        "                                 dropout=self.dropout)\n",
        "        \n",
        "        # 3) \"Concat\" using a view and apply a final linear. \n",
        "        x = x.transpose(1, 2).contiguous() \\\n",
        "             .view(nbatches, -1, self.h * self.d_k)\n",
        "        return self.linears[-1](x)      "
      ],
      "execution_count": 0,
      "outputs": []
    },
    {
      "cell_type": "code",
      "metadata": {
        "id": "ia2mvCgWSRaR",
        "colab_type": "code",
        "outputId": "39fe7832-b990-47bc-fd0f-771f9bef076f",
        "colab": {
          "base_uri": "https://localhost:8080/",
          "height": 34
        }
      },
      "source": [
        "# Example\n",
        "multihead = MultiHeadedAttention(4,100)\n",
        "query = key = value = torch.randn(1,2,100)\n",
        "z = multihead(query, key, value)\n",
        "print(z.size(), query.size())"
      ],
      "execution_count": 0,
      "outputs": [
        {
          "output_type": "stream",
          "text": [
            "torch.Size([1, 2, 100]) torch.Size([1, 2, 100])\n"
          ],
          "name": "stdout"
        }
      ]
    },
    {
      "cell_type": "markdown",
      "metadata": {
        "id": "2Dl2sMHhNuGY",
        "colab_type": "text"
      },
      "source": [
        "## Position-Wise Feed-Forward Networks\n",
        "\n",
        "The position-wise feed-forward network is a two-layer fully connected network with a ReLU activation in between. The dimensionality of input and output is $d_{\\text{model}}=512$, and the inner-layer has the dimensionality $d_{ff}=2048$.\n",
        "\n",
        "<figure>\n",
        "<center>\n",
        "<img src='https://drive.google.com/uc?id=13SC5hJ9vKchWy4lM4HTHpz0DNvyCwUAs' width=\"450\" height=\"600\" />\n",
        "<!---<figcaption>Image Caption</figcaption>--->\n",
        "</center>\n",
        "</figure>"
      ]
    },
    {
      "cell_type": "code",
      "metadata": {
        "id": "kJWPWo2iN1Te",
        "colab_type": "code",
        "colab": {}
      },
      "source": [
        "class PositionwiseFeedForward(nn.Module):\n",
        "    \"Implement the FFN equation.\"\n",
        "    def __init__(self, d_model, d_ff, dropout=0.1):\n",
        "      super(PositionwiseFeedForward, self).__init__()\n",
        "      self.w_1 = nn.Linear(d_model, d_ff)\n",
        "      self.w_2 = nn.Linear(d_ff, d_model)\n",
        "      self.dropout = nn.Dropout(dropout)\n",
        "        \n",
        "    def forward(self, x):\n",
        "      return self.w_2(self.dropout(F.relu(self.w_1(x))))"
      ],
      "execution_count": 0,
      "outputs": []
    },
    {
      "cell_type": "code",
      "metadata": {
        "id": "e0FlE85wSjgf",
        "colab_type": "code",
        "outputId": "838d5187-c32a-4e23-c981-036fc5d60db1",
        "colab": {
          "base_uri": "https://localhost:8080/",
          "height": 34
        }
      },
      "source": [
        "# Example\n",
        "pff = PositionwiseFeedForward(4,8)\n",
        "\n",
        "x = torch.randn(2,4)\n",
        "z = pff(x)\n",
        "print(x.size(), z.size())"
      ],
      "execution_count": 0,
      "outputs": [
        {
          "output_type": "stream",
          "text": [
            "torch.Size([2, 4]) torch.Size([2, 4])\n"
          ],
          "name": "stdout"
        }
      ]
    },
    {
      "cell_type": "markdown",
      "metadata": {
        "id": "1LrrMwbCPcHP",
        "colab_type": "text"
      },
      "source": [
        "## Add&Norm and Skip-Connect\n",
        "\n",
        "We employ a residual connection around each of the two sub-layers (Multi-Headed Attention, FeedForward Network), followed by a layer normalization which can be represented as $\\mathrm{LayerNorm}(x + Dropout(\\mathrm{Sublayer}(x)))$.\n",
        "\n",
        "To make the add operation viable, all sub-layers in the model, as well as the embedding layers, produce outputs of the dimension $d_{\\text{model}}=512$.\n",
        "\n",
        "\n",
        "<figure>\n",
        "<center>\n",
        "<img src='https://drive.google.com/uc?id=1YBkh8m-iA8UL2MzBE6jr3kQkjtIWddbO' width=\"450\" height=\"600\" />\n",
        "<!---<figcaption>Image Caption</figcaption>--->\n",
        "</center>\n",
        "</figure>\n"
      ]
    },
    {
      "cell_type": "code",
      "metadata": {
        "id": "r2FvLl6oPd8O",
        "colab_type": "code",
        "colab": {}
      },
      "source": [
        "class SublayerConnection(nn.Module):\n",
        "    \"\"\"\n",
        "    A residual connection followed by a layer norm.\n",
        "    Note for code simplicity the norm is first as opposed to last.\n",
        "    \"\"\"\n",
        "    def __init__(self, size, dropout):\n",
        "      super(SublayerConnection, self).__init__()\n",
        "      self.norm = nn.LayerNorm(size)\n",
        "      self.dropout = nn.Dropout(dropout)\n",
        "\n",
        "    def forward(self, x, sublayer):\n",
        "        \"Apply residual connection to any sublayer with the same size.\"\n",
        "        return x + self.dropout(sublayer(self.norm(x)))"
      ],
      "execution_count": 0,
      "outputs": []
    },
    {
      "cell_type": "markdown",
      "metadata": {
        "id": "Q-rUGIOcN4Hq",
        "colab_type": "text"
      },
      "source": [
        "## Embeddings and Softmax\n",
        "The learned linear transformation (or learned embeddings) converts the input/output tokens to the $d_{\\text{model}}$-dimentional vectors. And we use the embeddings and softmax to convert the output of the decoder to predicted next-token probabilities. \n",
        "\n",
        "\n",
        "<figure>\n",
        "<center>\n",
        "<img src='https://drive.google.com/uc?id=1llvh0JQXzqBXNEP3LyK25YEzjs_ZZYVZ' width=\"450\" height=\"600\" />\n",
        "<!---<figcaption>Image Caption</figcaption>--->\n",
        "</center>\n",
        "</figure>"
      ]
    },
    {
      "cell_type": "code",
      "metadata": {
        "id": "ct42hfzVN80-",
        "colab_type": "code",
        "colab": {}
      },
      "source": [
        "class Embeddings(nn.Module):\n",
        "    def __init__(self, d_model, vocab):\n",
        "      super(Embeddings, self).__init__()\n",
        "      self.lut = nn.Embedding(vocab, d_model)\n",
        "      self.d_model = d_model\n",
        "\n",
        "    def forward(self, x):\n",
        "      return self.lut(x) * math.sqrt(self.d_model)"
      ],
      "execution_count": 0,
      "outputs": []
    },
    {
      "cell_type": "code",
      "metadata": {
        "id": "CytP3njdqTp_",
        "colab_type": "code",
        "colab": {}
      },
      "source": [
        "class Generator(nn.Module):\n",
        "    \"Define standard linear + softmax generation step.\"\n",
        "    def __init__(self, d_model, vocab):\n",
        "        super(Generator, self).__init__()\n",
        "        # The pre-softmax linear transformation\n",
        "        self.proj = nn.Linear(d_model, vocab)\n",
        "\n",
        "    def forward(self, x):\n",
        "        return F.log_softmax(self.proj(x), dim=-1)"
      ],
      "execution_count": 0,
      "outputs": []
    },
    {
      "cell_type": "markdown",
      "metadata": {
        "id": "FFeHdTnCN97n",
        "colab_type": "text"
      },
      "source": [
        "## Positional Encoding\n",
        "\n",
        "The information from the order of the sequential tokens is injected to the model via positional encoding. The positional embeddings are added at the bottoms of the encoder and decoder stacks. In order to add them to the word embeddings, we choose the same dimension $d_{\\text{model}}$ as the word embeddings.\n",
        "\n",
        "In the codes below, we use sine and cosine functions of different frequencies.\n",
        "\n",
        "$    PE_{(pos,2i)} = sin(pos / 10000^{2i/d_{\\text{model}}}) \\\\\n",
        "    PE_{(pos,2i+1)} = cos(pos / 10000^{2i/d_{\\text{model}}})$\n",
        "\n",
        "The $pos$ is the position and $i$ is the dimension. That is, each dimension of the positional encoding corresponds to a sinusoid. The wavelengths form a geometric progression from $2\\pi$ to $10000 \\cdot 2\\pi$. We chose this function because we hypothesized it would allow the model to easily learn to attend by relative positions, since for any fixed offset $k$, $PE_{pos+k}$ can be represented as a linear function of $PE_{pos}$.\n",
        "\n",
        "What's more, we apply dropout with a rate of $P_{drop}=0.1$ to the sums of the embeddings and the positional encodings in both the encoder and decoder stacks.\n",
        "\n",
        "<figure>\n",
        "<center>\n",
        "<img src='https://drive.google.com/uc?id=1ayaDTqxzmyG44UWjU-rMJOtpx7gNsNAh' width=\"450\" height=\"600\" />\n",
        "<!---<figcaption>Image Caption</figcaption>--->\n",
        "</center>\n",
        "</figure>"
      ]
    },
    {
      "cell_type": "code",
      "metadata": {
        "id": "rRayOgoGOSys",
        "colab_type": "code",
        "colab": {}
      },
      "source": [
        "class PositionalEncoding(nn.Module):\n",
        "    \"Implement the PE function.\"\n",
        "    def __init__(self, d_model, dropout, max_len=5000):\n",
        "        super(PositionalEncoding, self).__init__()\n",
        "        self.dropout = nn.Dropout(p=dropout)\n",
        "        pe = torch.zeros(max_len, d_model)\n",
        "        position = torch.arange(0, max_len).unsqueeze(1)\n",
        "        div_term = torch.exp(torch.arange(0,d_model,2)*-(math.log(10000.0)/d_model))\n",
        "        pe[:,0::2] = torch.sin(position * div_term)\n",
        "        pe[:,1::2] = torch.cos(position * div_term)\n",
        "        pe = pe.unsqueeze(0)\n",
        "        self.register_buffer('pe',pe)\n",
        "\n",
        "    def forward(self, x):\n",
        "        x = x + Variable(self.pe[:,:x.size(1)], requires_grad=False)\n",
        "        return self.dropout(x)"
      ],
      "execution_count": 0,
      "outputs": []
    },
    {
      "cell_type": "markdown",
      "metadata": {
        "id": "weT8jR-aOWBq",
        "colab_type": "text"
      },
      "source": [
        "#### Example:\n",
        "\n",
        "For different positions (x-axis) and different dimensions (sine waves), the positional encodings (y-axis) are different."
      ]
    },
    {
      "cell_type": "code",
      "metadata": {
        "id": "MKGZw_EmOYfO",
        "colab_type": "code",
        "outputId": "e7baa5ca-0de9-42d4-dd2f-a4e81d2ce29c",
        "colab": {
          "base_uri": "https://localhost:8080/",
          "height": 337
        }
      },
      "source": [
        "plt.figure(figsize=(15, 5))\n",
        "pe = PositionalEncoding(20, 0)\n",
        "y = pe.forward(Variable(torch.zeros(1, 100, 20)))\n",
        "plt.plot(np.arange(100), y[0, :, 4:8].data.numpy())\n",
        "plt.legend([\"dim %d\"%p for p in [4,5,6,7]])"
      ],
      "execution_count": 0,
      "outputs": [
        {
          "output_type": "execute_result",
          "data": {
            "text/plain": [
              "<matplotlib.legend.Legend at 0x7efc79525588>"
            ]
          },
          "metadata": {
            "tags": []
          },
          "execution_count": 14
        },
        {
          "output_type": "display_data",
          "data": {
            "image/png": "[encoded data removed]",
            "text/plain": [
              "<Figure size 1080x360 with 1 Axes>"
            ]
          },
          "metadata": {
            "tags": []
          }
        }
      ]
    },
    {
      "cell_type": "markdown",
      "metadata": {
        "id": "bLitQ_faO0Ub",
        "colab_type": "text"
      },
      "source": [
        "## Transformer Model Architecture\n",
        "\n",
        "The sequence-to-sequence task typically utlizes an **Encoder-Decoder** structure. The encoder maps an input sequence of symbol representations $(x_1, …, x_n)$ to a sequence of continuous representations $\\mathbf{z} = (z_1, …, z_n)$. Given $\\mathbf{z}$, the decoder then generates an output sequence $(y_1,…,y_m)$ of symbols one element at a time. At each step the model is auto-regressive, consuming the previously generated symbols as additional input when generating the next."
      ]
    },
    {
      "cell_type": "code",
      "metadata": {
        "id": "y5zewamhPAKZ",
        "colab_type": "code",
        "colab": {}
      },
      "source": [
        "class EncoderDecoder(nn.Module):\n",
        "    \"\"\"\n",
        "    A standard Encoder-Decoder architecture. Base for this and many \n",
        "    other models.\n",
        "    \"\"\"\n",
        "    def __init__(self, encoder, decoder, src_embed, tgt_embed, generator):\n",
        "        super(EncoderDecoder, self).__init__()\n",
        "        self.encoder = encoder\n",
        "        self.decoder = decoder\n",
        "        self.src_embed = src_embed\n",
        "        self.tgt_embed = tgt_embed\n",
        "        self.generator = generator\n",
        "        \n",
        "    def forward(self, src, tgt, src_mask, tgt_mask):\n",
        "        \"Take in and process masked src and target sequences.\"\n",
        "        return self.decode(self.encode(src, src_mask), src_mask,\n",
        "                            tgt, tgt_mask)\n",
        "    \n",
        "    def encode(self, src, src_mask):\n",
        "        return self.encoder(self.src_embed(src), src_mask)\n",
        "    \n",
        "    def decode(self, memory, src_mask, tgt, tgt_mask):\n",
        "        return self.decoder(self.tgt_embed(tgt), memory, src_mask, tgt_mask)"
      ],
      "execution_count": 0,
      "outputs": []
    },
    {
      "cell_type": "markdown",
      "metadata": {
        "id": "05hug9LnPKhn",
        "colab_type": "text"
      },
      "source": [
        "## Encoder and Decoder Stacks\n",
        "\n",
        "### Encoder\n",
        "The encoder is composed of a stack of $N=6$ identical layers. Each layer is a  multi-headed self-attention network followed by a position-wise fully connected feed-forward network.\n",
        "\n",
        "<figure>\n",
        "<center>\n",
        "<img src='https://drive.google.com/uc?id=1hKSpRIPvPLxBEl3PanUl9owhTqf4yAFo' width=\"300\" height=\"500\" />\n",
        "<!---<figcaption>Image Caption</figcaption>--->\n",
        "</center>\n",
        "</figure>"
      ]
    },
    {
      "cell_type": "code",
      "metadata": {
        "id": "F0qnQsHKPQm5",
        "colab_type": "code",
        "colab": {}
      },
      "source": [
        "class Encoder(nn.Module):\n",
        "    \"Core encoder is a stack of N layers\"\n",
        "    def __init__(self, layer, N):\n",
        "        super(Encoder, self).__init__()\n",
        "        self.layers = clones(layer, N)\n",
        "        self.norm = nn.LayerNorm(layer.size)\n",
        "        \n",
        "    def forward(self, x, mask):\n",
        "        \"Pass the input (and mask) through each layer in turn.\"\n",
        "        for layer in self.layers:\n",
        "            x = layer(x, mask)\n",
        "        return self.norm(x)"
      ],
      "execution_count": 0,
      "outputs": []
    },
    {
      "cell_type": "code",
      "metadata": {
        "id": "x0L2yYVLPhAD",
        "colab_type": "code",
        "colab": {}
      },
      "source": [
        "class EncoderLayer(nn.Module):\n",
        "    \"Encoder is made up of self-attn and feed forward (defined below)\"\n",
        "    def __init__(self, size, self_attn, feed_forward, dropout):\n",
        "        super(EncoderLayer, self).__init__()\n",
        "        self.self_attn = self_attn\n",
        "        self.feed_forward = feed_forward\n",
        "        self.sublayer = clones(SublayerConnection(size, dropout), 2)\n",
        "        self.size = size\n",
        "\n",
        "    def forward(self, x, mask):\n",
        "        \"Follow Figure 1 (left) for connections.\"\n",
        "        x = self.sublayer[0](x, lambda x: self.self_attn(x, x, x, mask))\n",
        "        return self.sublayer[1](x, self.feed_forward)"
      ],
      "execution_count": 0,
      "outputs": []
    },
    {
      "cell_type": "markdown",
      "metadata": {
        "id": "LRqGJzdRPjuB",
        "colab_type": "text"
      },
      "source": [
        "### Decoder\n",
        "\n",
        "The decoder is also composed of a stack of $N=6$ identical layers. Each layer in the decoder consists of three sub-layers, multi-headed self-attention networks, a multi-headed attention network over the output of the encoder stack, and a position-wise fully connected feed-forward network. \n",
        "\n",
        "<figure>\n",
        "<center>\n",
        "<img src='https://drive.google.com/uc?id=1jX9m6mK_DBv7hsOkcHkHYDJiUq4VtR_U' width=\"450\" height=\"600\" />\n",
        "<!---<figcaption>Image Caption</figcaption>--->\n",
        "</center>\n",
        "</figure>"
      ]
    },
    {
      "cell_type": "code",
      "metadata": {
        "id": "yig3hwFYPqNR",
        "colab_type": "code",
        "colab": {}
      },
      "source": [
        "class Decoder(nn.Module):\n",
        "    \"Generic N layer decoder with masking.\"\n",
        "    def __init__(self, layer, N):\n",
        "        super(Decoder, self).__init__()\n",
        "        self.layers = clones(layer, N)\n",
        "        self.norm = nn.LayerNorm(layer.size)\n",
        "        \n",
        "    def forward(self, x, memory, src_mask, tgt_mask):\n",
        "        for layer in self.layers:\n",
        "            x = layer(x, memory, src_mask, tgt_mask)\n",
        "        return self.norm(x)"
      ],
      "execution_count": 0,
      "outputs": []
    },
    {
      "cell_type": "code",
      "metadata": {
        "id": "Rc3bikbJPt7c",
        "colab_type": "code",
        "colab": {}
      },
      "source": [
        "class DecoderLayer(nn.Module):\n",
        "    \"Decoder is made of self-attn, src-attn, and feed forward (defined below)\"\n",
        "    def __init__(self, size, self_attn, src_attn, feed_forward, dropout):\n",
        "        super(DecoderLayer, self).__init__()\n",
        "        self.size = size\n",
        "        self.self_attn = self_attn\n",
        "        self.src_attn = src_attn\n",
        "        self.feed_forward = feed_forward\n",
        "        self.sublayer = clones(SublayerConnection(size, dropout), 3)\n",
        " \n",
        "    def forward(self, x, memory, src_mask, tgt_mask):\n",
        "        \"Follow Figure 1 (right) for connections.\"\n",
        "        m = memory\n",
        "        x = self.sublayer[0](x, lambda x: self.self_attn(x, x, x, tgt_mask))\n",
        "        x = self.sublayer[1](x, lambda x: self.src_attn(x, m, m, src_mask))\n",
        "        return self.sublayer[2](x, self.feed_forward)"
      ],
      "execution_count": 0,
      "outputs": []
    },
    {
      "cell_type": "markdown",
      "metadata": {
        "id": "IWHtE26BPxaM",
        "colab_type": "text"
      },
      "source": [
        "Masking is used in the self-attention sub-layer in the decoder stack to prevent from attending to subsequent positions. It ensures the predictions for position $i$ depend only on the words on the left side of word at position $i$."
      ]
    },
    {
      "cell_type": "code",
      "metadata": {
        "id": "9dL0PS15Pybv",
        "colab_type": "code",
        "colab": {}
      },
      "source": [
        "def subsequent_mask(size):\n",
        "    \"Mask out subsequent positions.\"\n",
        "    attn_shape = (1, size, size)\n",
        "    subsequent_mask = np.triu(np.ones(attn_shape), k=1).astype('uint8')\n",
        "    return torch.from_numpy(subsequent_mask) == 0    "
      ],
      "execution_count": 0,
      "outputs": []
    },
    {
      "cell_type": "markdown",
      "metadata": {
        "id": "xQxL3o3bP1QR",
        "colab_type": "text"
      },
      "source": [
        "#####Example: \n",
        "We show an example below to demonstrate the position each tgt word (row) is allowed to look at (column) under the masking mechanism. During the training, words are blocked for attending to future words."
      ]
    },
    {
      "cell_type": "code",
      "metadata": {
        "id": "MWIS8MmuP26t",
        "colab_type": "code",
        "outputId": "a115463c-b155-47f2-eb8a-7e12cd3b5a51",
        "colab": {
          "base_uri": "https://localhost:8080/",
          "height": 331
        }
      },
      "source": [
        "plt.figure(figsize=(5,5))\n",
        "pos = plt.imshow(subsequent_mask(20)[0]*1, cmap='Blues') # True -> 1, False -> 0\n",
        "plt.colorbar(pos)"
      ],
      "execution_count": 0,
      "outputs": [
        {
          "output_type": "execute_result",
          "data": {
            "text/plain": [
              "<matplotlib.colorbar.Colorbar at 0x7efc777d6d68>"
            ]
          },
          "metadata": {
            "tags": []
          },
          "execution_count": 21
        },
        {
          "output_type": "display_data",
          "data": {
            "image/png": "[encoded data removed]",
            "text/plain": [
              "<Figure size 360x360 with 2 Axes>"
            ]
          },
          "metadata": {
            "tags": []
          }
        }
      ]
    },
    {
      "cell_type": "markdown",
      "metadata": {
        "id": "ZLJ4vydpOo8r",
        "colab_type": "text"
      },
      "source": [
        "## Make a Full Model\n",
        "\n",
        "We define a function that takes in hyperparameters and generates a full Encoder-Decoder Transformer Network.\n"
      ]
    },
    {
      "cell_type": "code",
      "metadata": {
        "id": "ovFOsA7EOv5a",
        "colab_type": "code",
        "colab": {}
      },
      "source": [
        "def make_model(src_vocab, tgt_vocab, N=6, \n",
        "               d_model=512, d_ff=2048, h=8, dropout=0.1):\n",
        "    \"Helper: Construct a model from hyperparameters.\"\n",
        "    c = copy.deepcopy\n",
        "    attn = MultiHeadedAttention(h, d_model)\n",
        "    ff = PositionwiseFeedForward(d_model, d_ff, dropout)\n",
        "    position = PositionalEncoding(d_model, dropout)\n",
        "    model = EncoderDecoder(\n",
        "        Encoder(EncoderLayer(d_model, c(attn), c(ff), dropout), N),\n",
        "        Decoder(DecoderLayer(d_model, c(attn), c(attn), \n",
        "                             c(ff), dropout), N),\n",
        "        nn.Sequential(Embeddings(d_model, src_vocab), c(position)),\n",
        "        nn.Sequential(Embeddings(d_model, tgt_vocab), c(position)),\n",
        "        Generator(d_model, tgt_vocab))\n",
        "    \n",
        "    # Initialize parameters with Glorot / fan_avg.\n",
        "    for p in model.parameters():\n",
        "        if p.dim() > 1:\n",
        "            nn.init.xavier_uniform_(p)\n",
        "    return model"
      ],
      "execution_count": 0,
      "outputs": []
    },
    {
      "cell_type": "markdown",
      "metadata": {
        "id": "KrCzIy-3Qk94",
        "colab_type": "text"
      },
      "source": [
        "## Training\n",
        "We will describe the training for the Transformer model.\n",
        "\n",
        "### Batches and Masking\n",
        "\n",
        "First, we define a batch ojbect. It holds the source (src) and target (trg) sentences for training, and constructs the masks."
      ]
    },
    {
      "cell_type": "code",
      "metadata": {
        "id": "lD6YktROQtxH",
        "colab_type": "code",
        "colab": {}
      },
      "source": [
        "class Batch:\n",
        "    \"Object for holding a batch of data with mask during training.\"\n",
        "    def __init__(self, src, trg=None, pad=0):\n",
        "        self.src = src\n",
        "        self.src_mask = (src != pad).unsqueeze(-2)\n",
        "        if trg is not None:\n",
        "            self.trg = trg[:, :-1]\n",
        "            self.trg_y = trg[:, 1:]\n",
        "            self.trg_mask = \\\n",
        "                self.make_std_mask(self.trg, pad)\n",
        "            self.ntokens = (self.trg_y != pad).data.sum()\n",
        "    \n",
        "    @staticmethod\n",
        "    def make_std_mask(tgt, pad):\n",
        "        \"Create a mask to hide padding and future words.\"\n",
        "        tgt_mask = (tgt != pad).unsqueeze(-2)\n",
        "        tgt_mask = tgt_mask & Variable(\n",
        "            subsequent_mask(tgt.size(-1)).type_as(tgt_mask.data))\n",
        "        return tgt_mask"
      ],
      "execution_count": 0,
      "outputs": []
    },
    {
      "cell_type": "markdown",
      "metadata": {
        "id": "PKL5ux8BQxKk",
        "colab_type": "text"
      },
      "source": [
        "### Training Loop\n",
        "\n",
        "Next we create a training loop to update the model.\n"
      ]
    },
    {
      "cell_type": "code",
      "metadata": {
        "id": "WoZrpp_KQ1bt",
        "colab_type": "code",
        "colab": {}
      },
      "source": [
        "def run_epoch(data_iter, model, loss_compute):\n",
        "    \"Standard Training and Logging Function\"\n",
        "    start = time.time()\n",
        "    total_tokens = 0\n",
        "    total_loss = 0\n",
        "    tokens = 0\n",
        "    for i, batch in enumerate(data_iter):\n",
        "        out = model.forward(batch.src, batch.trg, \n",
        "                            batch.src_mask, batch.trg_mask)\n",
        "        loss = loss_compute(out, batch.trg_y, batch.ntokens)\n",
        "        total_loss += loss\n",
        "        total_tokens += batch.ntokens\n",
        "        tokens += batch.ntokens\n",
        "        if i % 50 == 1:\n",
        "            elapsed = time.time() - start\n",
        "            print(\"Epoch Step: %d Loss: %f Tokens per Sec: %f\" %\n",
        "                    (i, loss / batch.ntokens, tokens / elapsed))\n",
        "            start = time.time()\n",
        "            tokens = 0\n",
        "    return total_loss / total_tokens"
      ],
      "execution_count": 0,
      "outputs": []
    },
    {
      "cell_type": "markdown",
      "metadata": {
        "id": "4qPoWpjjQ9oF",
        "colab_type": "text"
      },
      "source": [
        "### Optimizer\n",
        "We use the Adam optimizer with $\\beta_1=0.9$, $\\beta_2=0.98$ and $\\epsilon=10^{-9}$. We define a optimizer wrapper to vary the learning rate over the course of training.  The learning rate is increased linearly for the first $steps_{warmup}=4000$ training steps, and decreased thereafter proportionally to the inverse square root of the step number. \n"
      ]
    },
    {
      "cell_type": "code",
      "metadata": {
        "id": "7RiOO5X6sOzS",
        "colab_type": "code",
        "colab": {}
      },
      "source": [
        "class OptWrapper:\n",
        "    \"Optim wrapper that implements rate.\"\n",
        "    def __init__(self, model_size, factor, warmup, optimizer):\n",
        "        self.optimizer = optimizer\n",
        "        self.warmup = warmup\n",
        "        self.factor = factor\n",
        "        self.model_size = model_size\n",
        "        self._step = 0\n",
        "\n",
        "        self.lr_lambda = lambda step: self.factor * (self.model_size ** (-0.5) *\n",
        "                    min(step ** (-0.5), step * self.warmup ** (-1.5)))\n",
        "\n",
        "    def step(self):\n",
        "        \"Update parameters and rate\"\n",
        "        self._step += 1\n",
        "        rate = self.lr_lambda(self._step)\n",
        "        for p in self.optimizer.param_groups:\n",
        "            p['lr'] = rate\n",
        "        self.optimizer.step()"
      ],
      "execution_count": 0,
      "outputs": []
    },
    {
      "cell_type": "markdown",
      "metadata": {
        "id": "XQsBUr1MRGfV",
        "colab_type": "text"
      },
      "source": [
        "####Example:\n",
        "\n",
        "The curve of the learning rate scheduler is as follows."
      ]
    },
    {
      "cell_type": "code",
      "metadata": {
        "id": "-SZlJvuHRKX8",
        "colab_type": "code",
        "outputId": "59344c58-9434-4328-e5dc-c3f7e7485e99",
        "colab": {
          "base_uri": "https://localhost:8080/",
          "height": 282
        }
      },
      "source": [
        "# Three settings of the lrate hyperparameters.\n",
        "lr_factor = 2\n",
        "lr_model_size = 400\n",
        "lr_warmup = 4000\n",
        "lr_lambda = lambda step: lr_factor * (lr_model_size ** (-0.5) *\n",
        "                    min((step+1) ** (-0.5), (step+1) * lr_warmup ** (-1.5)))\n",
        "\n",
        "plt.plot(np.arange(1, 20000), [lr_lambda(i) for i in range(1, 20000)])\n",
        "plt.legend([\"Learning Rate\"])"
      ],
      "execution_count": 0,
      "outputs": [
        {
          "output_type": "execute_result",
          "data": {
            "text/plain": [
              "<matplotlib.legend.Legend at 0x7efc77797588>"
            ]
          },
          "metadata": {
            "tags": []
          },
          "execution_count": 26
        },
        {
          "output_type": "display_data",
          "data": {
            "image/png": "[encoded data removed]",
            "text/plain": [
              "<Figure size 432x288 with 1 Axes>"
            ]
          },
          "metadata": {
            "tags": []
          }
        }
      ]
    },
    {
      "cell_type": "markdown",
      "metadata": {
        "id": "Hi8ro-mPRNN1",
        "colab_type": "text"
      },
      "source": [
        "### Regularization\n",
        "\n",
        "#### Label Smoothing\n",
        "During the training, we employ label smoothing of value $\\epsilon_{ls}=0.1$. This hurts perplexity, as the model learns to be more unsure, but improves accuracy and BLEU score. We implement label smoothing using the Kullback–Leibler divergence loss. "
      ]
    },
    {
      "cell_type": "code",
      "metadata": {
        "id": "WYZp4JLRRTMV",
        "colab_type": "code",
        "colab": {}
      },
      "source": [
        "class LabelSmoothing(nn.Module):\n",
        "    \"Implement label smoothing.\"\n",
        "    def __init__(self, size, padding_idx, smoothing=0.0):\n",
        "        super(LabelSmoothing, self).__init__()\n",
        "        self.criterion = nn.KLDivLoss(reduction='sum')\n",
        "        self.padding_idx = padding_idx\n",
        "        self.confidence = 1.0 - smoothing\n",
        "        self.smoothing = smoothing\n",
        "        self.size = size\n",
        "        self.true_dist = None\n",
        "        \n",
        "    def forward(self, x, target):\n",
        "        assert x.size(1) == self.size\n",
        "        true_dist = x.data.clone()\n",
        "        true_dist.fill_(self.smoothing / (self.size - 2))\n",
        "        true_dist.scatter_(1, target.data.unsqueeze(1), self.confidence)\n",
        "        true_dist[:, self.padding_idx] = 0\n",
        "        mask = torch.nonzero(target.data == self.padding_idx)\n",
        "        if mask.dim() > 0:\n",
        "            true_dist.index_fill_(0, mask.squeeze(), 0.0)\n",
        "        self.true_dist = true_dist\n",
        "        return self.criterion(x, Variable(true_dist, requires_grad=False))"
      ],
      "execution_count": 0,
      "outputs": []
    },
    {
      "cell_type": "markdown",
      "metadata": {
        "id": "08SZuMYTRerp",
        "colab_type": "text"
      },
      "source": [
        "## Example - 1 (Synthetic Example)\n",
        "\n",
        "Let's test the model on a simple copy-paste task, by generating back the same symbols given a random set of input symbols from a small vocabulary.\n",
        "\n",
        "### Data"
      ]
    },
    {
      "cell_type": "code",
      "metadata": {
        "id": "MRgRIHJkRkSl",
        "colab_type": "code",
        "colab": {}
      },
      "source": [
        "def data_gen(V, batch, nbatches):\n",
        "    \"Generate random data for a src-tgt copy-paste task.\"\n",
        "    for i in range(nbatches):\n",
        "        data = torch.from_numpy(np.random.randint(1, V, size=(batch, 10)))\n",
        "        data[:, 0] = 1\n",
        "        src = Variable(data, requires_grad=False)\n",
        "        tgt = Variable(data, requires_grad=False)\n",
        "        yield Batch(src, tgt, 0)"
      ],
      "execution_count": 0,
      "outputs": []
    },
    {
      "cell_type": "markdown",
      "metadata": {
        "id": "1rTpAXQ9Rmar",
        "colab_type": "text"
      },
      "source": [
        "### Loss Computation"
      ]
    },
    {
      "cell_type": "code",
      "metadata": {
        "id": "OqjZCvKURolg",
        "colab_type": "code",
        "colab": {}
      },
      "source": [
        "class LossCompute:\n",
        "    \"A loss compute and train function.\"\n",
        "    def __init__(self, generator, criterion, opt=None):\n",
        "        self.generator = generator\n",
        "        self.criterion = criterion\n",
        "        self.opt = opt\n",
        "        \n",
        "    def __call__(self, x, y, norm):\n",
        "        x = self.generator(x)\n",
        "        loss = self.criterion(x.contiguous().view(-1, x.size(-1)), \n",
        "                              y.contiguous().view(-1)) / norm\n",
        "        loss.backward()\n",
        "        if self.opt is not None:\n",
        "            self.opt.step()\n",
        "            # clear the variables (set to 0) in the optimizer.\n",
        "            self.opt.optimizer.zero_grad()\n",
        "        return loss.data.item() * norm"
      ],
      "execution_count": 0,
      "outputs": []
    },
    {
      "cell_type": "markdown",
      "metadata": {
        "id": "Pjc9m5sLRrC2",
        "colab_type": "text"
      },
      "source": [
        "### Greedy Decoding"
      ]
    },
    {
      "cell_type": "code",
      "metadata": {
        "id": "mlptlwKqRvTv",
        "colab_type": "code",
        "outputId": "011f30fb-bdc8-49e5-fcbd-65e9d1a51d4c",
        "colab": {
          "base_uri": "https://localhost:8080/",
          "height": 550
        }
      },
      "source": [
        "# Train the simple copy-paste task.\n",
        "V = 11\n",
        "criterion = LabelSmoothing(size=V, padding_idx=0, smoothing=0.0)\n",
        "model = make_model(V, V, N=2)\n",
        "model_opt = OptWrapper(model.src_embed[0].d_model, 1, 400,\n",
        "        torch.optim.Adam(model.parameters(), lr=0, betas=(0.9, 0.98), eps=1e-9))\n",
        "\n",
        "for epoch in range(10):\n",
        "    model.train()\n",
        "    run_epoch(data_gen(V, 30, 20), model, \n",
        "              LossCompute(model.generator, criterion, model_opt))\n",
        "    model.eval()\n",
        "    print(run_epoch(data_gen(V, 30, 5), model, \n",
        "                    LossCompute(model.generator, criterion, None)))"
      ],
      "execution_count": 0,
      "outputs": [
        {
          "output_type": "stream",
          "text": [
            "Epoch Step: 1 Loss: 3.252573 Tokens per Sec: 418.581146\n",
            "Epoch Step: 1 Loss: 1.903271 Tokens per Sec: 717.822144\n",
            "tensor(1.9534)\n",
            "Epoch Step: 1 Loss: 1.954832 Tokens per Sec: 562.516602\n",
            "Epoch Step: 1 Loss: 1.649048 Tokens per Sec: 716.893799\n",
            "tensor(1.6425)\n",
            "Epoch Step: 1 Loss: 1.763388 Tokens per Sec: 563.846802\n",
            "Epoch Step: 1 Loss: 1.367883 Tokens per Sec: 718.164917\n",
            "tensor(1.3313)\n",
            "Epoch Step: 1 Loss: 1.923001 Tokens per Sec: 536.253174\n",
            "Epoch Step: 1 Loss: 1.105387 Tokens per Sec: 715.071777\n",
            "tensor(1.0902)\n",
            "Epoch Step: 1 Loss: 1.499996 Tokens per Sec: 540.585144\n",
            "Epoch Step: 1 Loss: 0.721465 Tokens per Sec: 730.944641\n",
            "tensor(0.7371)\n",
            "Epoch Step: 1 Loss: 1.032160 Tokens per Sec: 562.703857\n",
            "Epoch Step: 1 Loss: 0.468373 Tokens per Sec: 724.492676\n",
            "tensor(0.5072)\n",
            "Epoch Step: 1 Loss: 0.550630 Tokens per Sec: 558.326965\n",
            "Epoch Step: 1 Loss: 0.441794 Tokens per Sec: 723.157715\n",
            "tensor(0.3968)\n",
            "Epoch Step: 1 Loss: 1.191086 Tokens per Sec: 545.023865\n",
            "Epoch Step: 1 Loss: 0.387948 Tokens per Sec: 721.345581\n",
            "tensor(0.3990)\n",
            "Epoch Step: 1 Loss: 0.401020 Tokens per Sec: 563.330994\n",
            "Epoch Step: 1 Loss: 0.266051 Tokens per Sec: 727.111328\n",
            "tensor(0.2374)\n",
            "Epoch Step: 1 Loss: 0.467420 Tokens per Sec: 556.961121\n",
            "Epoch Step: 1 Loss: 0.169438 Tokens per Sec: 728.383850\n",
            "tensor(0.1846)\n"
          ],
          "name": "stdout"
        }
      ]
    },
    {
      "cell_type": "code",
      "metadata": {
        "id": "D25IGvDqTwGK",
        "colab_type": "code",
        "outputId": "5dd16fd5-bc19-4967-baf4-b845e563ecc7",
        "colab": {
          "base_uri": "https://localhost:8080/",
          "height": 34
        }
      },
      "source": [
        "def greedy_decode(model, src, src_mask, max_len, start_symbol):\n",
        "    \"This code predicts a translation using greedy decoding for simplicity.\"\n",
        "    memory = model.encode(src, src_mask)\n",
        "    ys = torch.ones(1, 1).fill_(start_symbol).type_as(src.data)\n",
        "    for i in range(max_len-1):\n",
        "        out = model.decode(memory, src_mask, \n",
        "                           Variable(ys), \n",
        "                           Variable(subsequent_mask(ys.size(1))\n",
        "                                    .type_as(src.data)))\n",
        "        prob = model.generator(out[:, -1])\n",
        "        _, next_word = torch.max(prob, dim = 1)\n",
        "        next_word = next_word.data[0]\n",
        "        ys = torch.cat([ys, \n",
        "                        torch.ones(1, 1).type_as(src.data).fill_(next_word)], dim=1)\n",
        "    return ys\n",
        "\n",
        "model.eval()\n",
        "src = Variable(torch.LongTensor([[1,2,3,4,5,6,7,8,9,10]]) )\n",
        "src_mask = Variable(torch.ones(1, 1, 10) )\n",
        "print(greedy_decode(model, src, src_mask, max_len=10, start_symbol=1))"
      ],
      "execution_count": 0,
      "outputs": [
        {
          "output_type": "stream",
          "text": [
            "tensor([[ 1,  2,  3,  4,  5,  6,  7,  8,  9, 10]])\n"
          ],
          "name": "stdout"
        }
      ]
    },
    {
      "cell_type": "markdown",
      "metadata": {
        "id": "W1Y2rX3QR3Ie",
        "colab_type": "text"
      },
      "source": [
        "## Example - 2 (Assignment: Real World Example)\n",
        "\n",
        "Let's test the model on a real-world IWSLT German-English Translation task. "
      ]
    },
    {
      "cell_type": "code",
      "metadata": {
        "id": "oSbN0iKMXS5_",
        "colab_type": "code",
        "outputId": "d19654c6-5fde-4bbf-97f5-904a5a26034d",
        "colab": {
          "base_uri": "https://localhost:8080/",
          "height": 445
        }
      },
      "source": [
        "# Download the data.\n",
        "!python -m spacy download en\n",
        "!python -m spacy download de"
      ],
      "execution_count": 0,
      "outputs": [
        {
          "output_type": "stream",
          "text": [
            "Requirement already satisfied: en_core_web_sm==2.1.0 from https://github.com/explosion/spacy-models/releases/download/en_core_web_sm-2.1.0/en_core_web_sm-2.1.0.tar.gz#egg=en_core_web_sm==2.1.0 in /usr/local/lib/python3.6/dist-packages (2.1.0)\n",
            "\u001b[38;5;2m✔ Download and installation successful\u001b[0m\n",
            "You can now load the model via spacy.load('en_core_web_sm')\n",
            "\u001b[38;5;2m✔ Linking successful\u001b[0m\n",
            "/usr/local/lib/python3.6/dist-packages/en_core_web_sm -->\n",
            "/usr/local/lib/python3.6/dist-packages/spacy/data/en\n",
            "You can now load the model via spacy.load('en')\n",
            "Collecting de_core_news_sm==2.1.0\n",
            "\u001b[?25l  Downloading https://github.com/explosion/spacy-models/releases/download/de_core_news_sm-2.1.0/de_core_news_sm-2.1.0.tar.gz (11.1MB)\n",
            "\u001b[K     |████████████████████████████████| 11.1MB 601kB/s \n",
            "\u001b[?25hBuilding wheels for collected packages: de-core-news-sm\n",
            "  Building wheel for de-core-news-sm (setup.py) ... \u001b[?25l\u001b[?25hdone\n",
            "  Created wheel for de-core-news-sm: filename=de_core_news_sm-2.1.0-cp36-none-any.whl size=11073065 sha256=dbef9c1255bbc8cfe2746a3f96fd57a026e285cfbce2d7081302c25b7a6b47a5\n",
            "  Stored in directory: /tmp/pip-ephem-wheel-cache-g13h_1pt/wheels/b4/8b/5e/d2ce5d2756ca95de22f50f68299708009a4aafda2aea79c4e4\n",
            "Successfully built de-core-news-sm\n",
            "Installing collected packages: de-core-news-sm\n",
            "Successfully installed de-core-news-sm-2.1.0\n",
            "\u001b[38;5;2m✔ Download and installation successful\u001b[0m\n",
            "You can now load the model via spacy.load('de_core_news_sm')\n",
            "\u001b[38;5;2m✔ Linking successful\u001b[0m\n",
            "/usr/local/lib/python3.6/dist-packages/de_core_news_sm -->\n",
            "/usr/local/lib/python3.6/dist-packages/spacy/data/de\n",
            "You can now load the model via spacy.load('de')\n"
          ],
          "name": "stdout"
        }
      ]
    },
    {
      "cell_type": "markdown",
      "metadata": {
        "id": "42QILtYGSFiF",
        "colab_type": "text"
      },
      "source": [
        "### Data Loading\n",
        "\n",
        "Load and tokenize the dataset using torchtext and spacy."
      ]
    },
    {
      "cell_type": "code",
      "metadata": {
        "id": "1m2CBX8CSK-V",
        "colab_type": "code",
        "colab": {}
      },
      "source": [
        "# For data loading.\n",
        "from torchtext import data, datasets\n",
        "\n",
        "if True:\n",
        "    import spacy\n",
        "    spacy_de = spacy.load('de')\n",
        "    spacy_en = spacy.load('en')\n",
        "\n",
        "    def tokenize_de(text):\n",
        "        return [tok.text for tok in spacy_de.tokenizer(text)]\n",
        "\n",
        "    def tokenize_en(text):\n",
        "        return [tok.text for tok in spacy_en.tokenizer(text)]\n",
        "\n",
        "    BOS_WORD = '<s>'\n",
        "    EOS_WORD = '</s>'\n",
        "    BLANK_WORD = \"<blank>\"\n",
        "    SRC = data.Field(tokenize=tokenize_de, pad_token=BLANK_WORD)\n",
        "    TGT = data.Field(tokenize=tokenize_en, init_token = BOS_WORD, \n",
        "                     eos_token = EOS_WORD, pad_token=BLANK_WORD)\n"
      ],
      "execution_count": 0,
      "outputs": []
    },
    {
      "cell_type": "code",
      "metadata": {
        "id": "YYWzWN3GgQKh",
        "colab_type": "code",
        "outputId": "327b408c-b089-4641-ae07-9b44751be8f7",
        "colab": {
          "base_uri": "https://localhost:8080/",
          "height": 407
        }
      },
      "source": [
        "# To save the time, we only consider a small subset of the corpus with length (8, 10]. \n",
        "MAX_LEN = 10\n",
        "MIN_LEN = 8\n",
        "train, val, test = datasets.IWSLT.splits(\n",
        "    exts=('.de', '.en'), fields=(SRC, TGT), \n",
        "    filter_pred=lambda x: MIN_LEN < len(vars(x)['src']) <= MAX_LEN and \n",
        "            MIN_LEN < len(vars(x)['trg']) <= MAX_LEN)\n"
      ],
      "execution_count": 0,
      "outputs": [
        {
          "output_type": "stream",
          "text": [
            "\rde-en.tgz:   0%|          | 0.00/24.2M [00:00<?, ?B/s]"
          ],
          "name": "stderr"
        },
        {
          "output_type": "stream",
          "text": [
            "downloading de-en.tgz\n"
          ],
          "name": "stdout"
        },
        {
          "output_type": "stream",
          "text": [
            "de-en.tgz: 100%|██████████| 24.2M/24.2M [00:00<00:00, 26.2MB/s]\n"
          ],
          "name": "stderr"
        },
        {
          "output_type": "stream",
          "text": [
            ".data/iwslt/de-en/IWSLT16.TED.tst2014.de-en.de.xml\n",
            ".data/iwslt/de-en/IWSLT16.TEDX.tst2014.de-en.de.xml\n",
            ".data/iwslt/de-en/IWSLT16.TED.tst2014.de-en.en.xml\n",
            ".data/iwslt/de-en/IWSLT16.TED.tst2012.de-en.de.xml\n",
            ".data/iwslt/de-en/IWSLT16.TEDX.dev2012.de-en.en.xml\n",
            ".data/iwslt/de-en/IWSLT16.TED.tst2011.de-en.de.xml\n",
            ".data/iwslt/de-en/IWSLT16.TED.tst2010.de-en.de.xml\n",
            ".data/iwslt/de-en/IWSLT16.TEDX.tst2014.de-en.en.xml\n",
            ".data/iwslt/de-en/IWSLT16.TEDX.dev2012.de-en.de.xml\n",
            ".data/iwslt/de-en/IWSLT16.TED.tst2013.de-en.de.xml\n",
            ".data/iwslt/de-en/IWSLT16.TED.tst2012.de-en.en.xml\n",
            ".data/iwslt/de-en/IWSLT16.TED.tst2010.de-en.en.xml\n",
            ".data/iwslt/de-en/IWSLT16.TED.dev2010.de-en.en.xml\n",
            ".data/iwslt/de-en/IWSLT16.TED.tst2011.de-en.en.xml\n",
            ".data/iwslt/de-en/IWSLT16.TEDX.tst2013.de-en.de.xml\n",
            ".data/iwslt/de-en/IWSLT16.TEDX.tst2013.de-en.en.xml\n",
            ".data/iwslt/de-en/IWSLT16.TED.tst2013.de-en.en.xml\n",
            ".data/iwslt/de-en/IWSLT16.TED.dev2010.de-en.de.xml\n",
            ".data/iwslt/de-en/train.tags.de-en.en\n",
            ".data/iwslt/de-en/train.tags.de-en.de\n"
          ],
          "name": "stdout"
        }
      ]
    },
    {
      "cell_type": "code",
      "metadata": {
        "id": "ORYxchjQhF3L",
        "colab_type": "code",
        "outputId": "ea341518-22de-4022-9694-7c0d0035c1e4",
        "colab": {
          "base_uri": "https://localhost:8080/",
          "height": 70
        }
      },
      "source": [
        "print(len([x for x in train.src]))\n",
        "MIN_FREQ = 2\n",
        "SRC.build_vocab(train.src, min_freq=MIN_FREQ)\n",
        "print(len(SRC.vocab))\n",
        "TGT.build_vocab(train.trg, min_freq=MIN_FREQ)\n",
        "print(len(TGT.vocab))"
      ],
      "execution_count": 0,
      "outputs": [
        {
          "output_type": "stream",
          "text": [
            "7230\n",
            "3694\n",
            "3386\n"
          ],
          "name": "stdout"
        }
      ]
    },
    {
      "cell_type": "markdown",
      "metadata": {
        "id": "Ov4olBZBSOew",
        "colab_type": "text"
      },
      "source": [
        "### Data Iterators\n",
        "\n",
        "It generates source and target data at each iteration."
      ]
    },
    {
      "cell_type": "code",
      "metadata": {
        "id": "8_yueMoiQ74_",
        "colab_type": "code",
        "colab": {}
      },
      "source": [
        "global max_src_in_batch, max_tgt_in_batch\n",
        "def batch_size_fn(new, count, sofar):\n",
        "    \"Keep augmenting batch and calculate total number of tokens + padding.\"\n",
        "    global max_src_in_batch, max_tgt_in_batch\n",
        "    if count == 1:\n",
        "        max_src_in_batch = 0\n",
        "        max_tgt_in_batch = 0\n",
        "    max_src_in_batch = max(max_src_in_batch,  len(new.src))\n",
        "    max_tgt_in_batch = max(max_tgt_in_batch,  len(new.trg) + 2)\n",
        "    src_elements = count * max_src_in_batch\n",
        "    tgt_elements = count * max_tgt_in_batch\n",
        "    return max(src_elements, tgt_elements)"
      ],
      "execution_count": 0,
      "outputs": []
    },
    {
      "cell_type": "code",
      "metadata": {
        "id": "wVQC1u2MSTWp",
        "colab_type": "code",
        "colab": {}
      },
      "source": [
        "class MyIterator(data.Iterator):\n",
        "    def create_batches(self):\n",
        "        if self.train:\n",
        "            def pool(d, random_shuffler):\n",
        "                for p in data.batch(d, self.batch_size):\n",
        "                    p_batch = data.batch(\n",
        "                        sorted(p, key=self.sort_key),\n",
        "                        self.batch_size, self.batch_size_fn)\n",
        "                    for b in random_shuffler(list(p_batch)):\n",
        "                        yield b\n",
        "            self.batches = pool(self.data(), self.random_shuffler)\n",
        "            \n",
        "        else:\n",
        "            self.batches = []\n",
        "            for b in data.batch(self.data(), self.batch_size,\n",
        "                                          self.batch_size_fn):\n",
        "                self.batches.append(sorted(b, key=self.sort_key))\n",
        "\n",
        "def rebatch(pad_idx, batch):\n",
        "    \"Fix order in torchtext to match ours\"\n",
        "    src, trg = batch.src.transpose(0, 1), batch.trg.transpose(0, 1)\n",
        "    return Batch(src, trg, pad_idx)"
      ],
      "execution_count": 0,
      "outputs": []
    },
    {
      "cell_type": "markdown",
      "metadata": {
        "id": "qaoVy6B8SkY0",
        "colab_type": "text"
      },
      "source": [
        "We create the model, criterion, and data iterators."
      ]
    },
    {
      "cell_type": "code",
      "metadata": {
        "id": "BE18RW67crr1",
        "colab_type": "code",
        "colab": {}
      },
      "source": [
        "if True:\n",
        "    pad_idx = TGT.vocab.stoi[\"<blank>\"]\n",
        "    model = make_model(len(SRC.vocab), len(TGT.vocab), N=1)\n",
        "    #model.cuda()\n",
        "    criterion = LabelSmoothing(size=len(TGT.vocab), padding_idx=pad_idx, smoothing=0.1)\n",
        "    #criterion.cuda()\n",
        "    BATCH_SIZE = 100\n",
        "    train_iter = MyIterator(train, batch_size=BATCH_SIZE,\n",
        "                            repeat=False, sort_key=lambda x: (len(x.src), len(x.trg)),\n",
        "                            batch_size_fn=batch_size_fn, train=True)\n",
        "    valid_iter = MyIterator(val, batch_size=BATCH_SIZE,\n",
        "                            repeat=False, sort_key=lambda x: (len(x.src), len(x.trg)),\n",
        "                            batch_size_fn=batch_size_fn, train=False)"
      ],
      "execution_count": 0,
      "outputs": []
    },
    {
      "cell_type": "markdown",
      "metadata": {
        "id": "oWOWIQtlSsCO",
        "colab_type": "text"
      },
      "source": [
        "### Training the System"
      ]
    },
    {
      "cell_type": "code",
      "metadata": {
        "id": "kotihVEoTBpE",
        "colab_type": "code",
        "colab": {}
      },
      "source": [
        "#!wget https://s3.amazonaws.com/opennmt-models/iwslt.pt"
      ],
      "execution_count": 0,
      "outputs": []
    },
    {
      "cell_type": "code",
      "metadata": {
        "id": "JZ9YSzM2TDvZ",
        "colab_type": "code",
        "outputId": "0cd488dc-1f41-42b5-b0a0-b28b3d657d66",
        "colab": {
          "base_uri": "https://localhost:8080/",
          "height": 868
        }
      },
      "source": [
        "# You could stop it manually and run the next code cell.\n",
        "if True:\n",
        "    model_opt = OptWrapper(model.src_embed[0].d_model, 1, 2000,\n",
        "            torch.optim.Adam(model.parameters(), lr=0, betas=(0.9, 0.98), eps=1e-9))\n",
        "    for epoch in range(10):\n",
        "        model.train()\n",
        "        run_epoch((rebatch(pad_idx, b) for b in train_iter), \n",
        "                  model, \n",
        "                  LossCompute(model.generator, criterion, opt=model_opt))\n",
        "        model.eval()\n",
        "        loss = run_epoch((rebatch(pad_idx, b) for b in valid_iter), \n",
        "                          model, \n",
        "                          LossCompute(model.generator, criterion, opt=None))\n",
        "        print(loss)\n",
        "else:\n",
        "    model = torch.load(\"iwslt.pt\")"
      ],
      "execution_count": 0,
      "outputs": [
        {
          "output_type": "stream",
          "text": [
            "Epoch Step: 1 Loss: 7.158245 Tokens per Sec: 325.679016\n",
            "Epoch Step: 51 Loss: 5.921081 Tokens per Sec: 423.697998\n",
            "Epoch Step: 101 Loss: 5.196033 Tokens per Sec: 420.296631\n",
            "Epoch Step: 151 Loss: 4.235659 Tokens per Sec: 418.736755\n",
            "Epoch Step: 201 Loss: 4.551528 Tokens per Sec: 413.069611\n",
            "Epoch Step: 251 Loss: 4.086952 Tokens per Sec: 425.697601\n",
            "Epoch Step: 301 Loss: 3.590018 Tokens per Sec: 433.185242\n",
            "Epoch Step: 351 Loss: 4.507064 Tokens per Sec: 457.248474\n",
            "Epoch Step: 401 Loss: 4.160588 Tokens per Sec: 449.624359\n",
            "Epoch Step: 451 Loss: 3.455229 Tokens per Sec: 430.544067\n",
            "Epoch Step: 501 Loss: 3.622535 Tokens per Sec: 432.358063\n",
            "Epoch Step: 551 Loss: 3.440207 Tokens per Sec: 455.170959\n",
            "Epoch Step: 601 Loss: 3.569884 Tokens per Sec: 451.598236\n",
            "Epoch Step: 651 Loss: 2.485881 Tokens per Sec: 438.401337\n",
            "Epoch Step: 701 Loss: 3.704904 Tokens per Sec: 450.612701\n",
            "Epoch Step: 751 Loss: 3.005895 Tokens per Sec: 455.473328\n",
            "Epoch Step: 801 Loss: 0.896699 Tokens per Sec: 443.155304\n",
            "Epoch Step: 851 Loss: 3.265231 Tokens per Sec: 432.325317\n",
            "Epoch Step: 1 Loss: 3.052499 Tokens per Sec: 804.941833\n",
            "tensor(2.7685)\n",
            "Epoch Step: 1 Loss: 2.965544 Tokens per Sec: 427.826508\n",
            "Epoch Step: 51 Loss: 3.449028 Tokens per Sec: 429.396759\n",
            "Epoch Step: 101 Loss: 2.909932 Tokens per Sec: 426.586121\n",
            "Epoch Step: 151 Loss: 3.073818 Tokens per Sec: 424.143677\n",
            "Epoch Step: 201 Loss: 3.233248 Tokens per Sec: 421.289276\n",
            "Epoch Step: 251 Loss: 3.238760 Tokens per Sec: 432.391449\n",
            "Epoch Step: 301 Loss: 3.050302 Tokens per Sec: 433.153870\n"
          ],
          "name": "stdout"
        },
        {
          "output_type": "error",
          "ename": "KeyboardInterrupt",
          "evalue": "ignored",
          "traceback": [
            "\u001b[0;31m---------------------------------------------------------------------------\u001b[0m",
            "\u001b[0;31mKeyboardInterrupt\u001b[0m                         Traceback (most recent call last)",
            "\u001b[0;32m<ipython-input-40-a8b532d7929d>\u001b[0m in \u001b[0;36m<module>\u001b[0;34m()\u001b[0m\n\u001b[1;32m      6\u001b[0m         run_epoch((rebatch(pad_idx, b) for b in train_iter), \n\u001b[1;32m      7\u001b[0m                   \u001b[0mmodel\u001b[0m\u001b[0;34m,\u001b[0m\u001b[0;34m\u001b[0m\u001b[0;34m\u001b[0m\u001b[0m\n\u001b[0;32m----> 8\u001b[0;31m                   LossCompute(model.generator, criterion, opt=model_opt))\n\u001b[0m\u001b[1;32m      9\u001b[0m         \u001b[0mmodel\u001b[0m\u001b[0;34m.\u001b[0m\u001b[0meval\u001b[0m\u001b[0;34m(\u001b[0m\u001b[0;34m)\u001b[0m\u001b[0;34m\u001b[0m\u001b[0;34m\u001b[0m\u001b[0m\n\u001b[1;32m     10\u001b[0m         loss = run_epoch((rebatch(pad_idx, b) for b in valid_iter), \n",
            "\u001b[0;32m<ipython-input-24-3c250c9d9ec4>\u001b[0m in \u001b[0;36mrun_epoch\u001b[0;34m(data_iter, model, loss_compute)\u001b[0m\n\u001b[1;32m      8\u001b[0m         out = model.forward(batch.src, batch.trg, \n\u001b[1;32m      9\u001b[0m                             batch.src_mask, batch.trg_mask)\n\u001b[0;32m---> 10\u001b[0;31m         \u001b[0mloss\u001b[0m \u001b[0;34m=\u001b[0m \u001b[0mloss_compute\u001b[0m\u001b[0;34m(\u001b[0m\u001b[0mout\u001b[0m\u001b[0;34m,\u001b[0m \u001b[0mbatch\u001b[0m\u001b[0;34m.\u001b[0m\u001b[0mtrg_y\u001b[0m\u001b[0;34m,\u001b[0m \u001b[0mbatch\u001b[0m\u001b[0;34m.\u001b[0m\u001b[0mntokens\u001b[0m\u001b[0;34m)\u001b[0m\u001b[0;34m\u001b[0m\u001b[0;34m\u001b[0m\u001b[0m\n\u001b[0m\u001b[1;32m     11\u001b[0m         \u001b[0mtotal_loss\u001b[0m \u001b[0;34m+=\u001b[0m \u001b[0mloss\u001b[0m\u001b[0;34m\u001b[0m\u001b[0;34m\u001b[0m\u001b[0m\n\u001b[1;32m     12\u001b[0m         \u001b[0mtotal_tokens\u001b[0m \u001b[0;34m+=\u001b[0m \u001b[0mbatch\u001b[0m\u001b[0;34m.\u001b[0m\u001b[0mntokens\u001b[0m\u001b[0;34m\u001b[0m\u001b[0;34m\u001b[0m\u001b[0m\n",
            "\u001b[0;32m<ipython-input-29-3593e6b66e1d>\u001b[0m in \u001b[0;36m__call__\u001b[0;34m(self, x, y, norm)\u001b[0m\n\u001b[1;32m     12\u001b[0m         \u001b[0mloss\u001b[0m\u001b[0;34m.\u001b[0m\u001b[0mbackward\u001b[0m\u001b[0;34m(\u001b[0m\u001b[0;34m)\u001b[0m\u001b[0;34m\u001b[0m\u001b[0;34m\u001b[0m\u001b[0m\n\u001b[1;32m     13\u001b[0m         \u001b[0;32mif\u001b[0m \u001b[0mself\u001b[0m\u001b[0;34m.\u001b[0m\u001b[0mopt\u001b[0m \u001b[0;32mis\u001b[0m \u001b[0;32mnot\u001b[0m \u001b[0;32mNone\u001b[0m\u001b[0;34m:\u001b[0m\u001b[0;34m\u001b[0m\u001b[0;34m\u001b[0m\u001b[0m\n\u001b[0;32m---> 14\u001b[0;31m             \u001b[0mself\u001b[0m\u001b[0;34m.\u001b[0m\u001b[0mopt\u001b[0m\u001b[0;34m.\u001b[0m\u001b[0mstep\u001b[0m\u001b[0;34m(\u001b[0m\u001b[0;34m)\u001b[0m\u001b[0;34m\u001b[0m\u001b[0;34m\u001b[0m\u001b[0m\n\u001b[0m\u001b[1;32m     15\u001b[0m             \u001b[0;31m# clear the variables (set to 0) in the optimizer.\u001b[0m\u001b[0;34m\u001b[0m\u001b[0;34m\u001b[0m\u001b[0;34m\u001b[0m\u001b[0m\n\u001b[1;32m     16\u001b[0m             \u001b[0mself\u001b[0m\u001b[0;34m.\u001b[0m\u001b[0mopt\u001b[0m\u001b[0;34m.\u001b[0m\u001b[0moptimizer\u001b[0m\u001b[0;34m.\u001b[0m\u001b[0mzero_grad\u001b[0m\u001b[0;34m(\u001b[0m\u001b[0;34m)\u001b[0m\u001b[0;34m\u001b[0m\u001b[0;34m\u001b[0m\u001b[0m\n",
            "\u001b[0;32m<ipython-input-25-c634a7e20d7c>\u001b[0m in \u001b[0;36mstep\u001b[0;34m(self)\u001b[0m\n\u001b[1;32m     17\u001b[0m         \u001b[0;32mfor\u001b[0m \u001b[0mp\u001b[0m \u001b[0;32min\u001b[0m \u001b[0mself\u001b[0m\u001b[0;34m.\u001b[0m\u001b[0moptimizer\u001b[0m\u001b[0;34m.\u001b[0m\u001b[0mparam_groups\u001b[0m\u001b[0;34m:\u001b[0m\u001b[0;34m\u001b[0m\u001b[0;34m\u001b[0m\u001b[0m\n\u001b[1;32m     18\u001b[0m             \u001b[0mp\u001b[0m\u001b[0;34m[\u001b[0m\u001b[0;34m'lr'\u001b[0m\u001b[0;34m]\u001b[0m \u001b[0;34m=\u001b[0m \u001b[0mrate\u001b[0m\u001b[0;34m\u001b[0m\u001b[0;34m\u001b[0m\u001b[0m\n\u001b[0;32m---> 19\u001b[0;31m         \u001b[0mself\u001b[0m\u001b[0;34m.\u001b[0m\u001b[0moptimizer\u001b[0m\u001b[0;34m.\u001b[0m\u001b[0mstep\u001b[0m\u001b[0;34m(\u001b[0m\u001b[0;34m)\u001b[0m\u001b[0;34m\u001b[0m\u001b[0;34m\u001b[0m\u001b[0m\n\u001b[0m",
            "\u001b[0;32m/usr/local/lib/python3.6/dist-packages/torch/optim/adam.py\u001b[0m in \u001b[0;36mstep\u001b[0;34m(self, closure)\u001b[0m\n\u001b[1;32m    105\u001b[0m                 \u001b[0mstep_size\u001b[0m \u001b[0;34m=\u001b[0m \u001b[0mgroup\u001b[0m\u001b[0;34m[\u001b[0m\u001b[0;34m'lr'\u001b[0m\u001b[0;34m]\u001b[0m \u001b[0;34m/\u001b[0m \u001b[0mbias_correction1\u001b[0m\u001b[0;34m\u001b[0m\u001b[0;34m\u001b[0m\u001b[0m\n\u001b[1;32m    106\u001b[0m \u001b[0;34m\u001b[0m\u001b[0m\n\u001b[0;32m--> 107\u001b[0;31m                 \u001b[0mp\u001b[0m\u001b[0;34m.\u001b[0m\u001b[0mdata\u001b[0m\u001b[0;34m.\u001b[0m\u001b[0maddcdiv_\u001b[0m\u001b[0;34m(\u001b[0m\u001b[0;34m-\u001b[0m\u001b[0mstep_size\u001b[0m\u001b[0;34m,\u001b[0m \u001b[0mexp_avg\u001b[0m\u001b[0;34m,\u001b[0m \u001b[0mdenom\u001b[0m\u001b[0;34m)\u001b[0m\u001b[0;34m\u001b[0m\u001b[0;34m\u001b[0m\u001b[0m\n\u001b[0m\u001b[1;32m    108\u001b[0m \u001b[0;34m\u001b[0m\u001b[0m\n\u001b[1;32m    109\u001b[0m         \u001b[0;32mreturn\u001b[0m \u001b[0mloss\u001b[0m\u001b[0;34m\u001b[0m\u001b[0;34m\u001b[0m\u001b[0m\n",
            "\u001b[0;31mKeyboardInterrupt\u001b[0m: "
          ]
        }
      ]
    },
    {
      "cell_type": "markdown",
      "metadata": {
        "id": "SmBmBs5wTE1i",
        "colab_type": "text"
      },
      "source": [
        "We evaluate the trained model by simply translating the first sentence in the validation set. "
      ]
    },
    {
      "cell_type": "code",
      "metadata": {
        "id": "rieLhx19TIyU",
        "colab_type": "code",
        "outputId": "055436f3-6c31-42ca-ff83-5d87425727bd",
        "colab": {
          "base_uri": "https://localhost:8080/",
          "height": 52
        }
      },
      "source": [
        "for i, batch in enumerate(valid_iter):\n",
        "    src = batch.src.transpose(0, 1)[:1]\n",
        "    src_mask = (src != SRC.vocab.stoi[\"<blank>\"]).unsqueeze(-2)\n",
        "    out = greedy_decode(model, src, src_mask, \n",
        "                        max_len=60, start_symbol=TGT.vocab.stoi[\"<s>\"])\n",
        "    print(\"Translation:\", end=\"\\t\")\n",
        "    for i in range(1, out.size(1)):\n",
        "        sym = TGT.vocab.itos[out[0, i]]\n",
        "        if sym == \"</s>\": break\n",
        "        print(sym, end =\" \")\n",
        "    print()\n",
        "    print(\"Target:\", end=\"\\t\")\n",
        "    for i in range(1, batch.trg.size(0)):\n",
        "        sym = TGT.vocab.itos[batch.trg.data[i, 0]]\n",
        "        if sym == \"</s>\": break\n",
        "        print(sym, end =\" \")\n",
        "    print()\n",
        "    break"
      ],
      "execution_count": 0,
      "outputs": [
        {
          "output_type": "stream",
          "text": [
            "Translation:\tThis is my <unk> . I is your ? \n",
            "Target:\tThat is my <unk> . What 's yours ? \n"
          ],
          "name": "stdout"
        }
      ]
    },
    {
      "cell_type": "markdown",
      "metadata": {
        "id": "PVIGIvuXAfBx",
        "colab_type": "text"
      },
      "source": [
        "## References\n",
        "\n",
        "[1] Vaswani, Ashish, et al. \"Attention is all you need.\" Advances in neural information processing systems. 2017.\n",
        "\n",
        "[2] Klein, Guillaume, et al. \"Opennmt: Open-source toolkit for neural machine translation.\" arXiv preprint arXiv:1701.02810 (2017).\n",
        "\n",
        "[3] http://jalammar.github.io/illustrated-transformer/"
      ]
    }
  ]
}